{
 "cells": [
  {
   "cell_type": "code",
   "execution_count": 1,
   "id": "716ca82c-056c-4a57-8e55-51fd5bb1cc6f",
   "metadata": {},
   "outputs": [
    {
     "name": "stdout",
     "output_type": "stream",
     "text": [
      "Requirement already satisfied: trimesh in /opt/anaconda3/lib/python3.11/site-packages (4.6.8)\n",
      "Requirement already satisfied: numpy>=1.20 in /opt/anaconda3/lib/python3.11/site-packages (from trimesh) (1.26.4)\n",
      "Note: you may need to restart the kernel to use updated packages.\n"
     ]
    }
   ],
   "source": [
    "pip install trimesh"
   ]
  },
  {
   "cell_type": "code",
   "execution_count": 2,
   "id": "b7807abe-35a3-451c-95c5-a92ef576ceeb",
   "metadata": {},
   "outputs": [
    {
     "name": "stdout",
     "output_type": "stream",
     "text": [
      "Requirement already satisfied: pillow in /opt/anaconda3/lib/python3.11/site-packages (10.2.0)\n",
      "Note: you may need to restart the kernel to use updated packages.\n"
     ]
    }
   ],
   "source": [
    "pip install pillow"
   ]
  },
  {
   "cell_type": "code",
   "execution_count": 2,
   "id": "99496e47-7db7-4d22-8cc8-7268fb0a39c5",
   "metadata": {},
   "outputs": [
    {
     "name": "stdout",
     "output_type": "stream",
     "text": [
      "Choose input type:\n",
      "Type 'photo' to upload an image\n",
      "Type 'text' to write a description\n",
      "Text received: a toy car\n",
      "Model saved successfully.\n"
     ]
    }
   ],
   "source": [
    "from PIL import Image\n",
    "import trimesh\n",
    "\n",
    "print(\"Choose input type:\")\n",
    "print(\"Type 'photo' to upload an image\")\n",
    "print(\"Type 'text' to write a description\")\n",
    "user_input = input(\"Enter your choice: \").lower()\n",
    "\n",
    "model = None\n",
    "\n",
    "if user_input == \"photo\":\n",
    "    image_file = input(\"Enter the image filename (like chair.jpg): \")\n",
    "\n",
    "    img = Image.open(image_file)\n",
    "    print(\"Image loaded.\")\n",
    "\n",
    "    model = trimesh.creation.box(extents=(1, 1, 1))\n",
    "\n",
    "elif user_input == \"text\":\n",
    "    text = input(\"Enter a short description (like 'a toy car'): \")\n",
    "    print(\"Text received:\", text)\n",
    "\n",
    "    model = trimesh.creation.icosphere(radius=0.5)\n",
    "\n",
    "else:\n",
    "    print(\"Invalid choice. Please enter 'photo' or 'text'.\")\n",
    "\n",
    "if model != None:\n",
    "\n",
    "    model.export(\"output_model.stl\")\n",
    "    print(\"Model saved successfully.\")\n",
    "\n",
    "    model.show()\n",
    "else:\n",
    "    print(\"No 3D model created.\")\n"
   ]
  },
  {
   "cell_type": "code",
   "execution_count": null,
   "id": "c4ac6fd7-7b80-488f-bb9f-8dda0e4e34dc",
   "metadata": {},
   "outputs": [],
   "source": []
  }
 ],
 "metadata": {
  "kernelspec": {
   "display_name": "base",
   "language": "python",
   "name": "python3"
  },
  "language_info": {
   "codemirror_mode": {
    "name": "ipython",
    "version": 3
   },
   "file_extension": ".py",
   "mimetype": "text/x-python",
   "name": "python",
   "nbconvert_exporter": "python",
   "pygments_lexer": "ipython3",
   "version": "3.11.7"
  }
 },
 "nbformat": 4,
 "nbformat_minor": 5
}
